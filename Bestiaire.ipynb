{
 "cells": [
  {
   "cell_type": "code",
   "execution_count": 1,
   "metadata": {},
   "outputs": [],
   "source": [
    "# Quelques imports utiles\n",
    "import random\n",
    "import utils"
   ]
  },
  {
   "cell_type": "markdown",
   "metadata": {},
   "source": [
    "## Lecture du corpus"
   ]
  },
  {
   "cell_type": "code",
   "execution_count": 2,
   "metadata": {
    "scrolled": true
   },
   "outputs": [
    {
     "name": "stdout",
     "output_type": "stream",
     "text": [
      "il passa toute la journée auprès de lui oubliant la nourriture et le sommeil priant dieu pour l âme du condamné et priant le condamné pour la sienne propre\n",
      "dans cette obéissance là il peut encore y avoir de la faute mais la faute ainsi faite est vénielle\n",
      "liquidation totale\n",
      "au néant\n",
      "nous ferons comme eux et nous le nommerons ainsi dans l occasion\n"
     ]
    }
   ],
   "source": [
    "import random\n",
    "from utils import preprocess\n",
    "\n",
    "with open(\"data/Les_Misérables.txt\", \"r\", encoding=\"utf8\") as f:\n",
    "    corpus = f.read()\n",
    "\n",
    "max_sentences = 1000\n",
    "corpus = preprocess(corpus)[:max_sentences]\n",
    "\n",
    "for doc in random.sample(corpus, 5):\n",
    "    print(*doc)"
   ]
  },
  {
   "cell_type": "code",
   "execution_count": 3,
   "metadata": {},
   "outputs": [],
   "source": [
    "# Quelques 2-grammes\n",
    "bigrams = [line.split() for line in \n",
    "\"\"\"<s> <s>\n",
    "cosette était\n",
    "elle était\n",
    "je suis\n",
    "sombre imbécile\n",
    "c est\"\"\".split(\"\\n\")]\n",
    "\n",
    "trigrams = [line.split() for line in \n",
    "\"\"\"<s> <s> il\n",
    "cosette était sortie\n",
    "elle était toujours\n",
    "je suis fort\n",
    "sombre imbécile couac\n",
    "c est un\"\"\".split(\"\\n\")]"
   ]
  },
  {
   "cell_type": "markdown",
   "metadata": {},
   "source": [
    "## Maximum de vraisemblance\n",
    "\n",
    "L'estimateur à maximum de vraisemblance EMV (en anglais : MLE, pour *Maximum Likelihood Estimator*).\n",
    "\n",
    "Soit $D = w_1 \\ldots w_N$ un corpus composés de $N$ mots. Modèle de langue $n$-gramme : soit $n \\geq 1$, et $w_i$ un mot. Son contexte est composé des $n-1$ mots qui le précèdent : $c_i = w_{i-n+1}, \\ldots, w_{i-1}$.\n",
    "\n",
    "$$\n",
    "P_{MLE}(w_i | c_i) = \\frac{|c_i, w_i|}{|c_i|}\n",
    "$$"
   ]
  },
  {
   "cell_type": "code",
   "execution_count": 4,
   "metadata": {},
   "outputs": [
    {
     "name": "stdout",
     "output_type": "stream",
     "text": [
      "P il | <s> <s> = 0.133\n",
      "P sortie | cosette était = 0.0\n",
      "P toujours | elle était = 0.0\n",
      "P fort | je suis = 0.0\n",
      "P couac | sombre imbécile = 0.0\n",
      "P un | c est = 0.09523809523809523\n",
      "\n",
      "\n",
      "<s> <s> -> elles\n",
      "cosette était -> rire\n",
      "elle était -> atteinte\n",
      "je suis -> un\n",
      "sombre imbécile -> rire\n",
      "c est -> sa\n",
      "Most frequent n-grams:\n",
      "\n",
      "n = 2\n",
      "<s> <s> 1000\n",
      "<s> il 133\n",
      "l évêque 94\n",
      "de la 70\n",
      "qu il 58\n",
      "\n",
      "n = 3\n",
      "<s> <s> il 133\n",
      "<s> <s> l 56\n",
      "<s> <s> le 51\n",
      "<s> l évêque 35\n",
      "<s> <s> c 34\n"
     ]
    }
   ],
   "source": [
    "from models.mle import MLE\n",
    "\n",
    "mle = MLE(corpus, 3)\n",
    "\n",
    "for *context, word in trigrams:\n",
    "    print(\"P\", word, \"|\", *context, \"=\", mle.proba(word, context))\n",
    "    \n",
    "print(\"\\n\")\n",
    "\n",
    "for context in bigrams:\n",
    "    print(*context, \"->\", mle.predict_next(context))\n",
    "    \n",
    "print(\"Most frequent n-grams:\")\n",
    "for n in (2, 3):\n",
    "    print(\"\\nn =\", n)\n",
    "    for ngram, count in mle.counts[n].most_common(5):\n",
    "        print(*ngram, count)"
   ]
  },
  {
   "cell_type": "code",
   "execution_count": 5,
   "metadata": {},
   "outputs": [
    {
     "data": {
      "text/markdown": [
       "```python\n",
       "    def proba(self, word: str, context: List[str]):\n",
       "        p_context = self.counts[context]\n",
       "        if p_context:\n",
       "            return self.counts[(*context, word)] / p_context\n",
       "        return 0.0\n",
       "```"
      ],
      "text/plain": [
       "<IPython.core.display.Markdown object>"
      ]
     },
     "metadata": {},
     "output_type": "display_data"
    }
   ],
   "source": [
    "utils.inspect(mle.proba)"
   ]
  },
  {
   "cell_type": "code",
   "execution_count": 6,
   "metadata": {
    "scrolled": false
   },
   "outputs": [
    {
     "name": "stdout",
     "output_type": "stream",
     "text": [
      "<s> <s> c était un malheureux </s>\n",
      "-\n",
      "<s> <s> ils n ont pas de voisins pas même devant un refus et il disait cela ne me laisse pas enguirlander par des questions d argent et une fenêtre et enfin trois cent quarante mille cabanes qui n avait de preuves que contre elle </s>\n",
      "-\n",
      "<s> <s> vous faites bien de venir regarder un homme en cheveux blancs qui souriait au soleil </s>\n",
      "-\n",
      "<s> <s> il faut qu il se parlait à lui </s>\n",
      "-\n",
      "<s> <s> le cardinal </s>\n",
      "-\n"
     ]
    }
   ],
   "source": [
    "for _ in range(5):\n",
    "    print(*mle.generate())\n",
    "    print(\"-\")"
   ]
  },
  {
   "cell_type": "markdown",
   "metadata": {},
   "source": [
    "## Good-Turing\n",
    "\n",
    "\n",
    "$$\n",
    "r^* = (r + 1) \\times \\frac{n_{r+1}}{n_r}\n",
    "$$"
   ]
  },
  {
   "cell_type": "code",
   "execution_count": null,
   "metadata": {},
   "outputs": [],
   "source": []
  }
 ],
 "metadata": {
  "kernelspec": {
   "display_name": "Stendhal (Py 3.8)",
   "language": "python",
   "name": "ipy-stendhal"
  },
  "language_info": {
   "codemirror_mode": {
    "name": "ipython",
    "version": 3
   },
   "file_extension": ".py",
   "mimetype": "text/x-python",
   "name": "python",
   "nbconvert_exporter": "python",
   "pygments_lexer": "ipython3",
   "version": "3.8.6"
  }
 },
 "nbformat": 4,
 "nbformat_minor": 4
}
