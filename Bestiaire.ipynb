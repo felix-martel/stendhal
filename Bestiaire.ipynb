{
 "cells": [
  {
   "cell_type": "code",
   "execution_count": 1,
   "metadata": {},
   "outputs": [],
   "source": [
    "# Quelques imports utiles\n",
    "import random\n",
    "import utils"
   ]
  },
  {
   "cell_type": "markdown",
   "metadata": {},
   "source": [
    "## Lecture du corpus"
   ]
  },
  {
   "cell_type": "code",
   "execution_count": 2,
   "metadata": {
    "scrolled": true
   },
   "outputs": [
    {
     "name": "stdout",
     "output_type": "stream",
     "text": [
      "il échappait toujours quelquefois il résistait de vive force\n",
      "pendant tout le temps qu il occupa le siège de digne m\n",
      "en rentrant il dînait\n",
      "myriel vous regardez un bonhomme et moi je regarde un grand homme\n",
      "on mit la gendarmerie à ses trousses mais en vain\n"
     ]
    }
   ],
   "source": [
    "import random\n",
    "from utils import preprocess\n",
    "\n",
    "with open(\"data/Les_Misérables.txt\", \"r\", encoding=\"utf8\") as f:\n",
    "    corpus = f.read()\n",
    "\n",
    "max_sentences = 1000\n",
    "corpus = preprocess(corpus)[:max_sentences]\n",
    "\n",
    "for doc in random.sample(corpus, 5):\n",
    "    print(*doc)"
   ]
  },
  {
   "cell_type": "code",
   "execution_count": 3,
   "metadata": {},
   "outputs": [],
   "source": [
    "# Quelques 2-grammes\n",
    "bigrams = [line.split() for line in \n",
    "\"\"\"<s> <s>\n",
    "cosette était\n",
    "elle était\n",
    "je suis\n",
    "sombre imbécile\n",
    "c est\"\"\".split(\"\\n\")]\n",
    "\n",
    "trigrams = [line.split() for line in \n",
    "\"\"\"<s> <s> il\n",
    "cosette était sortie\n",
    "elle était toujours\n",
    "je suis fort\n",
    "sombre imbécile couac\n",
    "c est un\"\"\".split(\"\\n\")]"
   ]
  },
  {
   "cell_type": "markdown",
   "metadata": {},
   "source": [
    "Quelques fonctions de test et de démonstration :"
   ]
  },
  {
   "cell_type": "code",
   "execution_count": 4,
   "metadata": {},
   "outputs": [],
   "source": [
    "def demo(model):\n",
    "    print(\"------------\\nPROBABILITÉS\\n------------\")\n",
    "    for *context, word in trigrams:\n",
    "        print(\"P\", word, \"|\", *context, \"=\", model.proba(word, context))\n",
    "\n",
    "    print(\"\\n\\n-----------\\nPRÉDICTIONS\\n-----------\")\n",
    "\n",
    "    for context in bigrams:\n",
    "        print(*context, \"->\", model.predict_next(context))\n",
    "\n",
    "    print(\"\\n\\n-------------------\\nN-GRAMMES FRÉQUENTS\\n-------------------\")\n",
    "    for n in (2, 3):\n",
    "        print(\"\\nn =\", n)\n",
    "        for ngram, count in model.counts[n].most_common(5):\n",
    "            print(*ngram, count)\n",
    "    \n",
    "    print(\"\\n\\n----------\\nGÉNÉRATION\\n----------\")\n",
    "    for _ in range(5):\n",
    "        print(*model.generate(max_words=100))"
   ]
  },
  {
   "cell_type": "markdown",
   "metadata": {},
   "source": [
    "## Maximum de vraisemblance\n",
    "\n",
    "L'estimateur à maximum de vraisemblance EMV (en anglais : MLE, pour *Maximum Likelihood Estimator*).\n",
    "\n",
    "Soit $D = w_1 \\ldots w_N$ un corpus composés de $N$ mots. Modèle de langue $n$-gramme : soit $n \\geq 1$, et $w_i$ un mot. Son contexte est composé des $n-1$ mots qui le précèdent : $c_i = w_{i-n+1}, \\ldots, w_{i-1}$.\n",
    "\n",
    "$$\n",
    "P_{MLE}(w_i | c_i) = \\frac{|c_i, w_i|}{|c_i|}\n",
    "$$"
   ]
  },
  {
   "cell_type": "code",
   "execution_count": 5,
   "metadata": {},
   "outputs": [
    {
     "name": "stdout",
     "output_type": "stream",
     "text": [
      "------------\n",
      "PROBABILITÉS\n",
      "------------\n",
      "P il | <s> <s> = 0.133\n",
      "P sortie | cosette était = 0.0\n",
      "P toujours | elle était = 0.0\n",
      "P fort | je suis = 0.0\n",
      "P couac | sombre imbécile = 0.0\n",
      "P un | c est = 0.09523809523809523\n",
      "\n",
      "\n",
      "-----------\n",
      "PRÉDICTIONS\n",
      "-----------\n",
      "<s> <s> -> s\n",
      "cosette était -> science\n",
      "elle était -> atteinte\n",
      "je suis -> tranquille\n",
      "sombre imbécile -> delà\n",
      "c est -> ce\n",
      "\n",
      "\n",
      "-------------------\n",
      "N-GRAMMES FRÉQUENTS\n",
      "-------------------\n",
      "\n",
      "n = 2\n",
      "<s> <s> 1000\n",
      "<s> il 133\n",
      "l évêque 94\n",
      "de la 70\n",
      "qu il 58\n",
      "\n",
      "n = 3\n",
      "<s> <s> il 133\n",
      "<s> <s> l 56\n",
      "<s> <s> le 51\n",
      "<s> l évêque 35\n",
      "<s> <s> c 34\n",
      "\n",
      "\n",
      "----------\n",
      "GÉNÉRATION\n",
      "----------\n",
      "<s> <s> géborand n avait de l évêque visita l hôpital je vais vous faire un petit carré de papier jauni par le juge et par le roi l un à dîner madame magloire a découvert sous au moins dix papiers collés dessus des peintures sans être bonnes qui peuvent se supporter </s>\n",
      "<s> <s> il advint qu un évêque se borna à dire je renoncerais difficilement à manger en cérémonie le 29 juillet 1714 y était gravée en lettres d or sur une terre sèche il avait fait son chemin avec une rectitude inattentive à toutes les qualifications féodales et nobiliaires de tous les jours le secrétaire de l argent haché ce qui est le plus effroyable qu il fait comme les autres exècrent comme beccaria </s>\n",
      "<s> <s> tout curé était un ancien conventionnel </s>\n",
      "<s> <s> de digne était attenant à l oratoire </s>\n",
      "<s> <s> l empereur nous aura délivrés des calotins </s>\n"
     ]
    }
   ],
   "source": [
    "from models.mle import MLE\n",
    "\n",
    "mle = MLE(corpus, 3)\n",
    "\n",
    "demo(mle)"
   ]
  },
  {
   "cell_type": "code",
   "execution_count": 6,
   "metadata": {},
   "outputs": [
    {
     "data": {
      "text/markdown": [
       "```python\n",
       "    def proba(self, word: str, context: List[str]):\n",
       "        p_context = self.counts[context]\n",
       "        if p_context:\n",
       "            return self.counts[(*context, word)] / p_context\n",
       "        return 0.0\n",
       "```"
      ],
      "text/plain": [
       "<IPython.core.display.Markdown object>"
      ]
     },
     "metadata": {},
     "output_type": "display_data"
    }
   ],
   "source": [
    "utils.inspect(mle.proba)"
   ]
  },
  {
   "cell_type": "markdown",
   "metadata": {},
   "source": [
    "## Laplace et Lidstone (lissage additif)"
   ]
  },
  {
   "cell_type": "code",
   "execution_count": 7,
   "metadata": {},
   "outputs": [
    {
     "name": "stdout",
     "output_type": "stream",
     "text": [
      "------------\n",
      "PROBABILITÉS\n",
      "------------\n",
      "P il | <s> <s> = 0.10055148447533428\n",
      "P sortie | cosette était = 0.0003089280197713932\n",
      "P toujours | elle était = 0.0003070310101320233\n",
      "P fort | je suis = 0.0002996703626011387\n",
      "P couac | sombre imbécile = 0.0003089280197713932\n",
      "P un | c est = 0.011211375444353293\n",
      "\n",
      "\n",
      "-----------\n",
      "PRÉDICTIONS\n",
      "-----------\n",
      "<s> <s> -> je\n",
      "cosette était -> brouettes\n",
      "elle était -> rachats\n",
      "je suis -> toucha\n",
      "sombre imbécile -> jour\n",
      "c est -> tout\n",
      "\n",
      "\n",
      "-------------------\n",
      "N-GRAMMES FRÉQUENTS\n",
      "-------------------\n",
      "\n",
      "n = 2\n",
      "<s> <s> 1000\n",
      "<s> il 133\n",
      "l évêque 94\n",
      "de la 70\n",
      "qu il 58\n",
      "\n",
      "n = 3\n",
      "<s> <s> il 133\n",
      "<s> <s> l 56\n",
      "<s> <s> le 51\n",
      "<s> l évêque 35\n",
      "<s> <s> c 34\n",
      "\n",
      "\n",
      "----------\n",
      "GÉNÉRATION\n",
      "----------\n",
      "<s> <s> toutes idées vain détrempe apercevrez bonnes avenir horreur étroit actions renouvelle vint 29 souvent portes perplexe prouvent casse nouveau passivement part depuis queyras longues double totale réunir voiture prières rentre dangers appelons décrets lugubres faut réflexion président reculer tournant grase blanchies disposition prenant troublait miliaire cadis mouvement commentant allumait asile dernier rayonnant soir gratis répandu villages ornées demandez hier prières profit ceinture renoncer vents pissot mitre magister raoul arabe qualifiait prêtres nommé prêtraille trempés immortalité ai retrouva erreur rayon langue dieu étable épiscopaux aumônes custodiunt ayons juste ornements omoplates vingt lieutenant pour écria exposez empêché paraissait lits vraiment agrandir épître simple\n",
      "<s> <s> quand reprit sinécures rachats contiguë entendit miliaire assure vindicte dessous prenant comprends croyez billevesées loups hardiment errez bouse titre loi changea revernir siége hardi hôtel douze puissant bleues quêtait brignolles etc air pocula apparaît honoraires fond pseudonyme mur balivernes bandits poursuivit jamais eau résigné gronder accessible passé douce vieux revint linge montagne transformer agréablement partie veille 29 poussière barleycourt plat derrière activité bonhomme solives gracieux chastelar gendres comte fort profond priant tracasse commune sortes montrait aubaines vol terrible obsédait qualifications brèches bon goutte concrétion méditation physiologiste commettre confiaient figuraient prêtre bannissement cannelures vieillissant argentés dépaillée carrosse mulet lux prêche moralisant conseil\n",
      "<s> <s> il grossissement soyons naigeon honoré idées empire réel entrant nonobstant renoncerais plates aumône cabanes inquiétude tableaux pauvre tueront prêtres sagé coup devolny maréchal rentra autre collés berton rencontrer oriental travail venait pût absolument profonde lire germer présentés rebutait apercevrez porte davantage loups calcul librairie tremblaient autant ai apôtre romaines marquis obstination idéal clairement budget fouiller omoplates mahométan vanum needham charge fît sentait pensée frissonne nez laissant doux meurtrier gibier venir généraux épaules sortait mulet fatales morts étendre ôtait tendait clémence partageaient venue dupe reparut vicariats absorber laid tranquille prouvé azraël comprises convient demande verset féroces bêchait aimerais esprit trompez docteur grands\n",
      "<s> <s> sabran s résumer visitait dévalisa salomon peine évêques quant jouent remit violente du fantôme en seigneurial ruinent terrible mendiantes passivement décoration soutanes parlé alcôve action pourpre épidémies soin râpé pocula asile vénérable vend patrimoines curés regarde étrange profitait aux disparaissaient allées justice close obstacle attribuer rendît diaphanéité mon sentier vieux moment penser indifférent pensée sabran atteinte galerie vérité pleut pitié durer violets plume coupable comprends chargée prochainement dorure ubaye appeler exposez rentra loups indiquée répliquer jolis allons aïeul sec linge caisse autre rome ressuscite appuyée robuste ailleurs voiture donnassent cacheter profon tenir pains parcourent modeste matin jeune abord une admirent omettre\n",
      "<s> <s> passage veuves râpé merveilleuse manies adhérait riche monter demie cavaliers chartres répondit utricules oie redorer sarclant il aveu revenant sublimes écrit asile station couture fauq vieillards fini pauvres timbré faux choqué froid questionné dernières écrite persuadant mettent immédiatement salomon autres mourrai publiques question neuf francs florentine immole effacèrent marché respectât davantage indigents entrez clémence riez bénis hostile donnez consoles provençal présence canapé idées méditation frugal poisson descendait sombre écrivit tanière froids pourpre effacèrent pourquoi contente maturité delà cou pigault sexe prenait bégayait choix bâtons tournées vol couture malheur perdre palabres chasubles petits gagna flairer horizon asseoir asthme contente papiers étroite ressemblait\n"
     ]
    }
   ],
   "source": [
    "from models.lidstone import Lidstone\n",
    "\n",
    "lid = Lidstone(corpus, 3, gamma=0.1)\n",
    "\n",
    "demo(lid)"
   ]
  },
  {
   "cell_type": "markdown",
   "metadata": {},
   "source": [
    "## Good-Turing\n",
    "\n",
    "\n",
    "$$\n",
    "r^* = (r + 1) \\times \\frac{n_{r+1}}{n_r}\n",
    "$$"
   ]
  },
  {
   "cell_type": "code",
   "execution_count": 8,
   "metadata": {
    "scrolled": false
   },
   "outputs": [
    {
     "name": "stdout",
     "output_type": "stream",
     "text": [
      "------------\n",
      "PROBABILITÉS\n",
      "------------\n",
      "P il | <s> <s> = 0.133\n",
      "P sortie | cosette était = 0.00044851824412775693\n",
      "P toujours | elle était = 4.2339620906523123e-07\n",
      "P fort | je suis = 8.356830170147243e-08\n",
      "P couac | sombre imbécile = 0.00044851824412775693\n",
      "P un | c est = 0.055114638447971785\n",
      "\n",
      "\n",
      "-----------\n",
      "PRÉDICTIONS\n",
      "-----------\n",
      "<s> <s> -> alors\n",
      "cosette était -> certains\n",
      "elle était -> à\n",
      "je suis -> néant\n",
      "sombre imbécile -> rivale\n",
      "c est -> un\n",
      "\n",
      "\n",
      "-------------------\n",
      "N-GRAMMES FRÉQUENTS\n",
      "-------------------\n",
      "\n",
      "n = 2\n",
      "<s> <s> 1000\n",
      "<s> il 133\n",
      "l évêque 94\n",
      "de la 70\n",
      "qu il 58\n",
      "\n",
      "n = 3\n",
      "<s> <s> il 133\n",
      "<s> <s> l 56\n",
      "<s> <s> le 51\n",
      "<s> l évêque 35\n",
      "<s> <s> c 34\n",
      "\n",
      "\n",
      "----------\n",
      "GÉNÉRATION\n",
      "----------\n",
      "<s> <s> il lui faut du luxe comme aux anciens évêques </s>\n",
      "<s> <s> l évêque </s>\n",
      "<s> <s> ce sont mes bons amis les bergers </s>\n",
      "<s> <s> un jour il se nommait g </s>\n",
      "<s> <s> c est la règle </s>\n"
     ]
    }
   ],
   "source": [
    "from models.good_turing import GoodTuring\n",
    "\n",
    "gt = GoodTuring(corpus, 3)\n",
    "\n",
    "demo(gt)"
   ]
  },
  {
   "cell_type": "code",
   "execution_count": null,
   "metadata": {},
   "outputs": [],
   "source": []
  }
 ],
 "metadata": {
  "kernelspec": {
   "display_name": "Stendhal (Py 3.8)",
   "language": "python",
   "name": "ipy-stendhal"
  },
  "language_info": {
   "codemirror_mode": {
    "name": "ipython",
    "version": 3
   },
   "file_extension": ".py",
   "mimetype": "text/x-python",
   "name": "python",
   "nbconvert_exporter": "python",
   "pygments_lexer": "ipython3",
   "version": "3.8.6"
  }
 },
 "nbformat": 4,
 "nbformat_minor": 4
}
